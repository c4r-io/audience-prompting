{
  "nbformat": 4,
  "nbformat_minor": 0,
  "metadata": {
    "colab": {
      "provenance": []
    },
    "kernelspec": {
      "name": "python3",
      "display_name": "Python 3"
    },
    "language_info": {
      "name": "python"
    }
  },
  "cells": [
    {
      "cell_type": "code",
      "execution_count": 16,
      "metadata": {
        "colab": {
          "base_uri": "https://localhost:8080/",
          "height": 721
        },
        "id": "MTgaQBJvVaDu",
        "outputId": "8db7ff91-3e0c-4ce4-fcd9-40b1472a5d28"
      },
      "outputs": [
        {
          "output_type": "execute_result",
          "data": {
            "text/plain": [
              "<IPython.lib.display.IFrame at 0x7d0485c1bf40>"
            ],
            "text/html": [
              "\n",
              "        <iframe\n",
              "            width=\"405\"\n",
              "            height=\"700\"\n",
              "            src=\"https://rigor-prompting.vercel.app\"\n",
              "            frameborder=\"0\"\n",
              "            allowfullscreen\n",
              "            \n",
              "        ></iframe>\n",
              "        "
            ]
          },
          "metadata": {},
          "execution_count": 16
        }
      ],
      "source": [
        "# @title Presentor\n",
        "from IPython.display import IFrame\n",
        "IFrame(src=f\"https://rigor-prompting.vercel.app\", width=405, height=700)"
      ]
    },
    {
      "cell_type": "code",
      "source": [
        "# @title Participant\n",
        "from IPython.display import IFrame\n",
        "IFrame(src=f\"https://rigor-prompting.vercel.app\", width=405, height=700)"
      ],
      "metadata": {
        "colab": {
          "base_uri": "https://localhost:8080/",
          "height": 721
        },
        "id": "Up0sZ7QxbU5c",
        "outputId": "182ea0ee-f095-4558-a8c0-78063a7ade22"
      },
      "execution_count": 17,
      "outputs": [
        {
          "output_type": "execute_result",
          "data": {
            "text/plain": [
              "<IPython.lib.display.IFrame at 0x7d0485c1aaa0>"
            ],
            "text/html": [
              "\n",
              "        <iframe\n",
              "            width=\"405\"\n",
              "            height=\"700\"\n",
              "            src=\"https://rigor-prompting.vercel.app\"\n",
              "            frameborder=\"0\"\n",
              "            allowfullscreen\n",
              "            \n",
              "        ></iframe>\n",
              "        "
            ]
          },
          "metadata": {},
          "execution_count": 17
        }
      ]
    }
  ]
}